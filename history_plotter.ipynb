{
 "cells": [
  {
   "cell_type": "code",
   "execution_count": 5,
   "metadata": {},
   "outputs": [],
   "source": [
    "import matplotlib.pyplot as plt\n",
    "import pandas as pd\n",
    "def smoothcols(df, cols):\n",
    "    \n",
    "    lfrac = 0.02\n",
    "    lowess = sm.nonparametric.lowess\n",
    "    df_sm = df.copy()\n",
    "    x = df.epoch.values\n",
    "\n",
    "    # Replace columns with smoothed values\n",
    "    for c in cols:\n",
    "        df_sm[c]  = lowess(df[c].values, x, frac = lfrac)[:,1]\n",
    "        \n",
    "    return df_sm\n",
    "\n",
    "import statsmodels.api as sm\n",
    "def smoothcols(df, cols):\n",
    "    \n",
    "    lfrac = 0.02\n",
    "    lowess = sm.nonparametric.lowess\n",
    "    df_sm = df.copy()\n",
    "    x = df.epoch.values\n",
    "\n",
    "    # Replace columns with smoothed values\n",
    "    for c in cols:\n",
    "        df_sm[c]  = lowess(df[c].values, x, frac = lfrac)[:,1]\n",
    "        \n",
    "    return df_sm"
   ]
  },
  {
   "cell_type": "code",
   "execution_count": null,
   "metadata": {},
   "outputs": [],
   "source": [
    "h = pd.read_csv(\"/scratch/thurasx/ecg_project_2/cnn_ecg_keras/history_and_result/history_small_1.csv\")\n",
    "\n",
    "cols_to_sm = list(h.columns)[0:] # columns for smoothing\n",
    "df_sm = smoothcols(h, cols_to_sm)\n",
    "\n",
    "plt.plot(df_sm.acc, label='accuracy')\n",
    "plt.plot(df_sm.val_acc, label='val_accuracy')\n",
    "plt.legend()\n",
    "plt.show()"
   ]
  },
  {
   "cell_type": "code",
   "execution_count": null,
   "metadata": {},
   "outputs": [],
   "source": [
    "h = pd.read_csv(\"/scratch/thurasx/ecg_project_2/cnn_ecg_keras/history_and_result/history_and_result/history_small_2.csv\")\n",
    "\n",
    "cols_to_sm = list(h.columns)[0:] # columns for smoothing\n",
    "df_sm = smoothcols(h, cols_to_sm)\n",
    "\n",
    "plt.plot(df_sm.acc, label='accuracy')\n",
    "plt.plot(df_sm.val_acc, label='val_accuracy')\n",
    "plt.legend()\n",
    "plt.show()"
   ]
  },
  {
   "cell_type": "code",
   "execution_count": null,
   "metadata": {},
   "outputs": [],
   "source": [
    "h = pd.read_csv(\"/scratch/thurasx/ecg_project_2/cnn_ecg_keras/history_and_result/history_small_3.csv\")\n",
    "\n",
    "cols_to_sm = list(h.columns)[0:] # columns for smoothing\n",
    "df_sm = smoothcols(h, cols_to_sm)\n",
    "\n",
    "plt.plot(df_sm.acc, label='accuracy')\n",
    "plt.plot(df_sm.val_acc, label='val_accuracy')\n",
    "plt.legend()\n",
    "plt.show()"
   ]
  },
  {
   "cell_type": "code",
   "execution_count": null,
   "metadata": {},
   "outputs": [],
   "source": [
    "h = pd.read_csv(\"/scratch/thurasx/ecg_project_2/cnn_ecg_keras/history_and_result/history_small_4.csv\")\n",
    "\n",
    "cols_to_sm = list(h.columns)[0:] # columns for smoothing\n",
    "df_sm = smoothcols(h, cols_to_sm)\n",
    "\n",
    "plt.plot(df_sm.acc, label='accuracy')\n",
    "plt.plot(df_sm.val_acc, label='val_accuracy')\n",
    "plt.legend()\n",
    "plt.show()"
   ]
  },
  {
   "cell_type": "code",
   "execution_count": null,
   "metadata": {},
   "outputs": [],
   "source": [
    "h = pd.read_csv(\"/scratch/thurasx/ecg_project_2/cnn_ecg_keras/history_and_result/history_small_5.csv\")\n",
    "\n",
    "cols_to_sm = list(h.columns)[0:] # columns for smoothing\n",
    "df_sm = smoothcols(h, cols_to_sm)\n",
    "\n",
    "plt.plot(df_sm.acc, label='accuracy')\n",
    "plt.plot(df_sm.val_acc, label='val_accuracy')\n",
    "plt.legend()\n",
    "plt.show()"
   ]
  },
  {
   "cell_type": "code",
   "execution_count": null,
   "metadata": {},
   "outputs": [],
   "source": [
    "h = pd.read_csv(\"/scratch/thurasx/ecg_project_2/cnn_ecg_keras/history_and_result/history_small_6.csv\")\n",
    "\n",
    "cols_to_sm = list(h.columns)[0:] # columns for smoothing\n",
    "df_sm = smoothcols(h, cols_to_sm)\n",
    "\n",
    "plt.plot(df_sm.acc, label='accuracy')\n",
    "plt.plot(df_sm.val_acc, label='val_accuracy')\n",
    "plt.legend()\n",
    "plt.show()"
   ]
  },
  {
   "cell_type": "code",
   "execution_count": null,
   "metadata": {},
   "outputs": [],
   "source": [
    "h = pd.read_csv(\"/scratch/thurasx/ecg_project_2/cnn_ecg_keras/history_and_result/history_small_7.csv\")\n",
    "\n",
    "cols_to_sm = list(h.columns)[0:] # columns for smoothing\n",
    "df_sm = smoothcols(h, cols_to_sm)\n",
    "\n",
    "plt.plot(df_sm.acc, label='accuracy')\n",
    "plt.plot(df_sm.val_acc, label='val_accuracy')\n",
    "plt.legend()\n",
    "plt.show()"
   ]
  },
  {
   "cell_type": "code",
   "execution_count": null,
   "metadata": {},
   "outputs": [],
   "source": [
    "h = pd.read_csv(\"/scratch/thurasx/ecg_project_2/cnn_ecg_keras/history_and_result/history_small_8.csv\")\n",
    "\n",
    "cols_to_sm = list(h.columns)[0:] # columns for smoothing\n",
    "df_sm = smoothcols(h, cols_to_sm)\n",
    "\n",
    "plt.plot(df_sm.acc, label='accuracy')\n",
    "plt.plot(df_sm.val_acc, label='val_accuracy')\n",
    "plt.legend()\n",
    "plt.show()"
   ]
  },
  {
   "cell_type": "code",
   "execution_count": null,
   "metadata": {},
   "outputs": [],
   "source": [
    "h = pd.read_csv(\"/scratch/thurasx/ecg_project_2/cnn_ecg_keras/history_and_result/history_small_9.csv\")\n",
    "\n",
    "cols_to_sm = list(h.columns)[0:] # columns for smoothing\n",
    "df_sm = smoothcols(h, cols_to_sm)\n",
    "\n",
    "plt.plot(df_sm.acc, label='accuracy')\n",
    "plt.plot(df_sm.val_acc, label='val_accuracy')\n",
    "plt.legend()\n",
    "plt.show()"
   ]
  },
  {
   "cell_type": "code",
   "execution_count": null,
   "metadata": {},
   "outputs": [],
   "source": [
    "h = pd.read_csv(\"/scratch/thurasx/ecg_project_2/cnn_ecg_keras/history_and_result/history_small_10.csv\")\n",
    "\n",
    "cols_to_sm = list(h.columns)[0:] # columns for smoothing\n",
    "df_sm = smoothcols(h, cols_to_sm)\n",
    "\n",
    "plt.plot(df_sm.acc, label='accuracy')\n",
    "plt.plot(df_sm.val_acc, label='val_accuracy')\n",
    "plt.legend()\n",
    "plt.show()"
   ]
  },
  {
   "cell_type": "code",
   "execution_count": null,
   "metadata": {},
   "outputs": [],
   "source": [
    "h = pd.read_csv(\"/scratch/thurasx/ecg_project_2/cnn_ecg_keras/history_and_result/history_small_10_no_aug.csv\")\n",
    "\n",
    "cols_to_sm = list(h.columns)[0:] # columns for smoothing\n",
    "df_sm = smoothcols(h, cols_to_sm)\n",
    "\n",
    "plt.plot(df_sm.acc, label='accuracy')\n",
    "plt.plot(df_sm.val_acc, label='val_accuracy')\n",
    "plt.legend()\n",
    "plt.show()"
   ]
  },
  {
   "cell_type": "code",
   "execution_count": null,
   "metadata": {},
   "outputs": [],
   "source": [
    "h = pd.read_csv(\"/scratch/thurasx/ecg_project_2/cnn_ecg_keras/history_and_result/history_small_11.csv\")\n",
    "\n",
    "cols_to_sm = list(h.columns)[0:] # columns for smoothing\n",
    "df_sm = smoothcols(h, cols_to_sm)\n",
    "\n",
    "plt.plot(df_sm.accuracy, label='accuracy')\n",
    "plt.plot(df_sm.val_accuracy, label='val_accuracy')\n",
    "plt.legend()\n",
    "plt.show()"
   ]
  },
  {
   "cell_type": "code",
   "execution_count": null,
   "metadata": {},
   "outputs": [],
   "source": [
    "h = pd.read_csv(\"/scratch/thurasx/ecg_project_2/cnn_ecg_keras/history_and_result/history_small_11_no_aug.csv\")\n",
    "\n",
    "cols_to_sm = list(h.columns)[0:] # columns for smoothing\n",
    "df_sm = smoothcols(h, cols_to_sm)\n",
    "\n",
    "plt.plot(df_sm.accuracyuracy, label='accuracy')\n",
    "plt.plot(df_sm.val_accuracy, label='val_accuracy')\n",
    "plt.legend()\n",
    "plt.show()"
   ]
  },
  {
   "cell_type": "code",
   "execution_count": null,
   "metadata": {},
   "outputs": [],
   "source": [
    "h = pd.read_csv(\"/scratch/thurasx/ecg_project_2/cnn_ecg_keras/history_and_result/history_small_11_imbalance.csv\")\n",
    "\n",
    "cols_to_sm = list(h.columns)[0:] # columns for smoothing\n",
    "df_sm = smoothcols(h, cols_to_sm)\n",
    "\n",
    "plt.plot(df_sm.accuracyuracy, label='accuracy')\n",
    "plt.plot(df_sm.val_accuracy, label='val_accuracy')\n",
    "plt.legend()\n",
    "plt.show()"
   ]
  },
  {
   "cell_type": "code",
   "execution_count": null,
   "metadata": {},
   "outputs": [],
   "source": [
    "# h = pd.read_csv(\"/scratch/thurasx/ecg_project_2/cnn_ecg_keras/history_and_result/history_small_12.csv\")\n",
    "\n",
    "# cols_to_sm = list(h.columns)[0:] # columns for smoothing\n",
    "# df_sm = smoothcols(h, cols_to_sm)\n",
    "\n",
    "# plt.plot(df_sm.accuracy, label='accuracy')\n",
    "# plt.plot(df_sm.val_accuracy, label='val_accuracy')\n",
    "# plt.legend()\n",
    "# plt.show()"
   ]
  },
  {
   "cell_type": "code",
   "execution_count": null,
   "metadata": {},
   "outputs": [],
   "source": [
    "h = pd.read_csv(\"/scratch/thurasx/ecg_project_2/cnn_ecg_keras/history_and_result/history_small_13.csv\")\n",
    "\n",
    "cols_to_sm = list(h.columns)[0:] # columns for smoothing\n",
    "df_sm = smoothcols(h, cols_to_sm)\n",
    "\n",
    "plt.plot(df_sm.accuracy, label='accuracy')\n",
    "plt.plot(df_sm.val_accuracy, label='val_accuracy')\n",
    "plt.legend()\n",
    "plt.show()"
   ]
  },
  {
   "cell_type": "code",
   "execution_count": null,
   "metadata": {},
   "outputs": [],
   "source": [
    "h = pd.read_csv(\"/scratch/thurasx/ecg_project_2/cnn_ecg_keras/history_and_result/history_small_14.csv\")\n",
    "\n",
    "cols_to_sm = list(h.columns)[0:] # columns for smoothing\n",
    "df_sm = smoothcols(h, cols_to_sm)\n",
    "\n",
    "plt.plot(df_sm.accuracy, label='accuracy')\n",
    "plt.plot(df_sm.val_accuracy, label='val_accuracy')\n",
    "plt.legend()\n",
    "plt.show()"
   ]
  },
  {
   "cell_type": "code",
   "execution_count": null,
   "metadata": {},
   "outputs": [],
   "source": [
    "h = pd.read_csv(\"/scratch/thurasx/ecg_project_2/cnn_ecg_keras/history_and_result/history_full.csv\")\n",
    "\n",
    "cols_to_sm = list(h.columns)[0:] # columns for smoothing\n",
    "df_sm = smoothcols(h, cols_to_sm)\n",
    "\n",
    "plt.plot(df_sm.accuracy, label='accuracy')\n",
    "plt.plot(df_sm.val_accuracy, label='val_accuracy')\n",
    "plt.legend()\n",
    "plt.show()"
   ]
  }
 ],
 "metadata": {
  "kernelspec": {
   "display_name": "mac_env",
   "language": "python",
   "name": "python3"
  },
  "language_info": {
   "codemirror_mode": {
    "name": "ipython",
    "version": 3
   },
   "file_extension": ".py",
   "mimetype": "text/x-python",
   "name": "python",
   "nbconvert_exporter": "python",
   "pygments_lexer": "ipython3",
   "version": "3.10.0"
  },
  "orig_nbformat": 4,
  "vscode": {
   "interpreter": {
    "hash": "dae103b0abefff14f74f1e104d855e7141743c65472217b3d8c8917ec22807b1"
   }
  }
 },
 "nbformat": 4,
 "nbformat_minor": 2
}
