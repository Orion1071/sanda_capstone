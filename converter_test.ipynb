{
 "cells": [
  {
   "cell_type": "code",
   "execution_count": 21,
   "metadata": {},
   "outputs": [],
   "source": [
    "import numpy as np\n",
    "import tensorflow as tf\n",
    "import tensorflow.keras.backend as K\n",
    "import subprocess"
   ]
  },
  {
   "cell_type": "code",
   "execution_count": 4,
   "metadata": {},
   "outputs": [],
   "source": [
    "#load data\n",
    "X_test = np.load(\"C:/Users/sanda/Documents/esp_dev_files/data/ecg_specto_data/X_test.npy\")\n",
    "y_test = np.load(\"C:/Users/sanda/Documents/esp_dev_files/data/ecg_specto_data/y_test.npy\")"
   ]
  },
  {
   "cell_type": "code",
   "execution_count": 16,
   "metadata": {},
   "outputs": [
    {
     "name": "stdout",
     "output_type": "stream",
     "text": [
      "(32, 570, 33)\n"
     ]
    }
   ],
   "source": [
    "print(X_test.shape)"
   ]
  },
  {
   "cell_type": "code",
   "execution_count": 8,
   "metadata": {},
   "outputs": [],
   "source": [
    "model = tf.keras.models.load_model(\"C:/Users/sanda/Documents/esp_dev_files/tensor_4_ml/src/models/keras_ecg_cnn_small_9.h5\")"
   ]
  },
  {
   "cell_type": "code",
   "execution_count": 9,
   "metadata": {},
   "outputs": [
    {
     "name": "stdout",
     "output_type": "stream",
     "text": [
      "Model: \"sequential\"\n",
      "_________________________________________________________________\n",
      " Layer (type)                Output Shape              Param #   \n",
      "=================================================================\n",
      " conv2d (Conv2D)             (None, 570, 33, 32)       320       \n",
      "                                                                 \n",
      " batch_normalization (BatchN  (None, 570, 33, 32)      128       \n",
      " ormalization)                                                   \n",
      "                                                                 \n",
      " activation (Activation)     (None, 570, 33, 32)       0         \n",
      "                                                                 \n",
      " conv2d_1 (Conv2D)           (None, 285, 17, 64)       18496     \n",
      "                                                                 \n",
      " batch_normalization_1 (Batc  (None, 285, 17, 64)      256       \n",
      " hNormalization)                                                 \n",
      "                                                                 \n",
      " activation_1 (Activation)   (None, 285, 17, 64)       0         \n",
      "                                                                 \n",
      " conv2d_2 (Conv2D)           (None, 285, 17, 64)       36928     \n",
      "                                                                 \n",
      " batch_normalization_2 (Batc  (None, 285, 17, 64)      256       \n",
      " hNormalization)                                                 \n",
      "                                                                 \n",
      " activation_2 (Activation)   (None, 285, 17, 64)       0         \n",
      "                                                                 \n",
      " conv2d_3 (Conv2D)           (None, 143, 9, 96)        55392     \n",
      "                                                                 \n",
      " batch_normalization_3 (Batc  (None, 143, 9, 96)       384       \n",
      " hNormalization)                                                 \n",
      "                                                                 \n",
      " activation_3 (Activation)   (None, 143, 9, 96)        0         \n",
      "                                                                 \n",
      " conv2d_4 (Conv2D)           (None, 143, 9, 96)        83040     \n",
      "                                                                 \n",
      " batch_normalization_4 (Batc  (None, 143, 9, 96)       384       \n",
      " hNormalization)                                                 \n",
      "                                                                 \n",
      " activation_4 (Activation)   (None, 143, 9, 96)        0         \n",
      "                                                                 \n",
      " conv2d_5 (Conv2D)           (None, 72, 5, 128)        110720    \n",
      "                                                                 \n",
      " batch_normalization_5 (Batc  (None, 72, 5, 128)       512       \n",
      " hNormalization)                                                 \n",
      "                                                                 \n",
      " activation_5 (Activation)   (None, 72, 5, 128)        0         \n",
      "                                                                 \n",
      " reshape (Reshape)           (None, 96, 480)           0         \n",
      "                                                                 \n",
      " lambda (Lambda)             (None, 480)               0         \n",
      "                                                                 \n",
      " dense (Dense)               (None, 4)                 1924      \n",
      "                                                                 \n",
      "=================================================================\n",
      "Total params: 308,740\n",
      "Trainable params: 307,780\n",
      "Non-trainable params: 960\n",
      "_________________________________________________________________\n"
     ]
    }
   ],
   "source": [
    "model.summary()"
   ]
  },
  {
   "cell_type": "code",
   "execution_count": 15,
   "metadata": {},
   "outputs": [
    {
     "name": "stdout",
     "output_type": "stream",
     "text": [
      "[None, 570, 33, 1]\n"
     ]
    }
   ],
   "source": [
    "print(model.inputs[0].shape.as_list())"
   ]
  },
  {
   "cell_type": "code",
   "execution_count": 28,
   "metadata": {},
   "outputs": [
    {
     "name": "stderr",
     "output_type": "stream",
     "text": [
      "WARNING:absl:Please consider providing the trackable_obj argument in the from_concrete_functions. Providing without the trackable_obj argument is deprecated and it will use the deprecated conversion path.\n"
     ]
    }
   ],
   "source": [
    "# input_ids = tf.keras.layers.Input((MAXLEN,), dtype=tf.int32, name='input_ids') \n",
    "# attention_mask = tf.keras.layers.Input((MAXLEN,), dtype=tf.int32, name='attention_mask') \n",
    "# inputs = [input_ids, attention_mask] output = tf_model(inputs[0], inputs[1]) \n",
    "# tf_model = tf.keras.Model(inputs=inputs, outputs=output) \n",
    "# tf_outputs = tf_model(inputs=[tf_inputs[\"input_ids\"], tf_inputs[ \"attention_mask\"]]) \n",
    "batch_size = 1\n",
    "input_shape = model.inputs[0].shape.as_list()\n",
    "input_shape[0] = batch_size\n",
    "func = tf.function(model).get_concrete_function(\n",
    "    tf.TensorSpec(input_shape, model.inputs[0].dtype))\n",
    "converter = tf.lite.TFLiteConverter.from_concrete_functions([func])\n",
    "# converter = tf.lite.TFLiteConverter.from_keras_model(model) \n",
    "converter.target_spec.supported_ops = [tf.lite.OpsSet.TFLITE_BUILTINS] \n",
    "tflite_model = converter.convert()"
   ]
  },
  {
   "cell_type": "code",
   "execution_count": 27,
   "metadata": {},
   "outputs": [],
   "source": [
    "\n",
    "\n",
    "with open('C:/Users/sanda/Documents/esp_dev_files/tensor_4_ml/src/models/keras_ecg_cnn_small_9.tflite', 'wb+') as f:\n",
    "    f.write(tflite_model)\n",
    "\n",
    "# list_files = subprocess.run([\"xxd\", \"-i\", \"C:/Users/sanda/Documents/esp_dev_files/tensor_4_ml/src/models/keras_ecg_cnn_small_9.tflite\", \">\", \"C:/Users/sanda/Documents/esp_dev_files/tensor_4_ml/src/models/cnn_small_9.cc\"])"
   ]
  },
  {
   "cell_type": "code",
   "execution_count": null,
   "metadata": {},
   "outputs": [],
   "source": []
  }
 ],
 "metadata": {
  "kernelspec": {
   "display_name": "mac_env",
   "language": "python",
   "name": "python3"
  },
  "language_info": {
   "codemirror_mode": {
    "name": "ipython",
    "version": 3
   },
   "file_extension": ".py",
   "mimetype": "text/x-python",
   "name": "python",
   "nbconvert_exporter": "python",
   "pygments_lexer": "ipython3",
   "version": "3.10.0 (v3.10.0:b494f5935c, Oct  4 2021, 14:59:19) [Clang 12.0.5 (clang-1205.0.22.11)]"
  },
  "orig_nbformat": 4,
  "vscode": {
   "interpreter": {
    "hash": "dae103b0abefff14f74f1e104d855e7141743c65472217b3d8c8917ec22807b1"
   }
  }
 },
 "nbformat": 4,
 "nbformat_minor": 2
}
